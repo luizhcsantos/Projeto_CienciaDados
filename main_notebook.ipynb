{
 "cells": [
  {
   "cell_type": "markdown",
   "metadata": {},
   "source": [
    "Imports necessários apra a execução do programa"
   ]
  },
  {
   "cell_type": "code",
   "execution_count": 5,
   "metadata": {},
   "outputs": [
    {
     "name": "stderr",
     "output_type": "stream",
     "text": [
      "[nltk_data] Downloading collection 'popular'\n",
      "[nltk_data]    | \n",
      "[nltk_data]    | Downloading package cmudict to nltk_data...\n",
      "[nltk_data]    |   Package cmudict is already up-to-date!\n",
      "[nltk_data]    | Downloading package gazetteers to nltk_data...\n",
      "[nltk_data]    |   Package gazetteers is already up-to-date!\n",
      "[nltk_data]    | Downloading package genesis to nltk_data...\n",
      "[nltk_data]    |   Package genesis is already up-to-date!\n",
      "[nltk_data]    | Downloading package gutenberg to nltk_data...\n",
      "[nltk_data]    |   Package gutenberg is already up-to-date!\n",
      "[nltk_data]    | Downloading package inaugural to nltk_data...\n",
      "[nltk_data]    |   Package inaugural is already up-to-date!\n",
      "[nltk_data]    | Downloading package movie_reviews to nltk_data...\n",
      "[nltk_data]    |   Package movie_reviews is already up-to-date!\n",
      "[nltk_data]    | Downloading package names to nltk_data...\n",
      "[nltk_data]    |   Package names is already up-to-date!\n",
      "[nltk_data]    | Downloading package shakespeare to nltk_data...\n",
      "[nltk_data]    |   Package shakespeare is already up-to-date!\n",
      "[nltk_data]    | Downloading package stopwords to nltk_data...\n",
      "[nltk_data]    |   Package stopwords is already up-to-date!\n",
      "[nltk_data]    | Downloading package treebank to nltk_data...\n",
      "[nltk_data]    |   Package treebank is already up-to-date!\n",
      "[nltk_data]    | Downloading package twitter_samples to nltk_data...\n",
      "[nltk_data]    |   Package twitter_samples is already up-to-date!\n",
      "[nltk_data]    | Downloading package omw to nltk_data...\n",
      "[nltk_data]    |   Package omw is already up-to-date!\n",
      "[nltk_data]    | Downloading package omw-1.4 to nltk_data...\n",
      "[nltk_data]    |   Package omw-1.4 is already up-to-date!\n",
      "[nltk_data]    | Downloading package wordnet to nltk_data...\n",
      "[nltk_data]    |   Package wordnet is already up-to-date!\n",
      "[nltk_data]    | Downloading package wordnet2021 to nltk_data...\n",
      "[nltk_data]    |   Package wordnet2021 is already up-to-date!\n",
      "[nltk_data]    | Downloading package wordnet31 to nltk_data...\n",
      "[nltk_data]    |   Package wordnet31 is already up-to-date!\n",
      "[nltk_data]    | Downloading package wordnet_ic to nltk_data...\n",
      "[nltk_data]    |   Package wordnet_ic is already up-to-date!\n",
      "[nltk_data]    | Downloading package words to nltk_data...\n",
      "[nltk_data]    |   Package words is already up-to-date!\n",
      "[nltk_data]    | Downloading package maxent_ne_chunker to nltk_data...\n",
      "[nltk_data]    |   Package maxent_ne_chunker is already up-to-date!\n",
      "[nltk_data]    | Downloading package punkt to nltk_data...\n",
      "[nltk_data]    |   Package punkt is already up-to-date!\n",
      "[nltk_data]    | Downloading package snowball_data to nltk_data...\n",
      "[nltk_data]    |   Package snowball_data is already up-to-date!\n",
      "[nltk_data]    | Downloading package averaged_perceptron_tagger to\n",
      "[nltk_data]    |     nltk_data...\n",
      "[nltk_data]    |   Package averaged_perceptron_tagger is already up-\n",
      "[nltk_data]    |       to-date!\n",
      "[nltk_data]    | \n",
      "[nltk_data]  Done downloading collection popular\n",
      "[nltk_data] Downloading package vader_lexicon to nltk_data...\n",
      "[nltk_data]   Package vader_lexicon is already up-to-date!\n"
     ]
    }
   ],
   "source": [
    "from collections import Counter\n",
    "import numpy as np\n",
    "import pandas as pd\n",
    "from requests import head\n",
    "import seaborn as sns\n",
    "import matplotlib.pyplot as plt \n",
    "import time\n",
    "import utilities.utilities as u\n",
    "from nltk.tokenize import word_tokenize\n",
    "from nltk.probability import FreqDist\n",
    "from nltk.sentiment.vader import SentimentIntensityAnalyzer\n",
    "from matplotlib import pyplot as plt\n",
    "from wordcloud import WordCloud\n",
    "from matplotlib import colormaps\n",
    "import matplotlib.animation as animation"
   ]
  },
  {
   "cell_type": "markdown",
   "metadata": {},
   "source": [
    "Limpeza do texto utilizando a função process_text"
   ]
  },
  {
   "cell_type": "code",
   "execution_count": 2,
   "metadata": {},
   "outputs": [],
   "source": [
    "df_original=pd.read_csv('data/fake_and_real_news.csv')\n",
    "\n",
    "# # inicio = time.time()\n",
    "# # print(\"Tempo de início:\", inicio)\n",
    "\n",
    "# # cria um dataframe vazio apenas com as colunas 'Text' e 'label'\n",
    "#    # este dataframe receberá a coluna 'text' do dataframe original após a limpeza dos dados \n",
    "# df_clean = pd.DataFrame({'Text': [], 'label': []})\n",
    "\n",
    "#    # função que realiza a limpeza dos dados da coluna 'text'\n",
    "# df_clean['Text'] = df_original['Text'].apply(u.preprocess_text)\n",
    "   \n",
    "   # salva o novo dataframe contendo o texto limpo no disco \n",
    "# df_clean.to_csv('dados_limpos.csv', index=False)  # index=False para não salvar o índice\n",
    "\n",
    "# fim = time.time()\n",
    "# tempo_total = fim - inicio\n",
    "# print(\"Tempo de término:\", fim)\n",
    "# print(\"Tempo total de execução:\", tempo_total)\n"
   ]
  },
  {
   "cell_type": "markdown",
   "metadata": {},
   "source": [
    "Normalização da coluna 'label'"
   ]
  },
  {
   "cell_type": "code",
   "execution_count": 5,
   "metadata": {},
   "outputs": [],
   "source": [
    "df_clean=pd.read_csv('cleaned_data/dados_limpos.csv')\n",
    "mapeamento = {'Real': 1, 'Fake': 0}\n",
    "   \n",
    "# cópia e escita em disco da coluna 'label' normalizada para o dataframe que contém os dados limpos \n",
    "df_clean['label'] = df_original['label'].map(mapeamento)\n",
    "# df_clean.to_csv('cleaned_data/dados_limpos.csv', index=False)"
   ]
  },
  {
   "cell_type": "markdown",
   "metadata": {},
   "source": [
    "Ordenação das palavras das noticias por frequencia "
   ]
  },
  {
   "cell_type": "code",
   "execution_count": 6,
   "metadata": {},
   "outputs": [],
   "source": [
    "\n",
    "df_clean=pd.read_csv('cleaned_data/dados_limpos.csv')\n",
    "\n",
    "fake_news = df_clean[df_clean['label'] == 0]['Text']\n",
    "real_news = ' '.join(df_clean[df_clean['label'] == 1]['Text'])\n",
    "\n",
    "resultado_fake = u.ordenar_palavras_frequencia(df_clean, 'label', 'Text', 0)\n",
    "# Converter o dicionário de palavras frequentes ordenadas em um DataFrame\n",
    "df_palavras_frequentes = pd.DataFrame(resultado_fake, columns=['Word', 'Frequency'])\n",
    "# Salvar o DataFrame em um arquivo CSV\n",
    "# df_palavras_frequentes.to_csv('cleaned_data/fake_palavras_frequentes.csv', index=False)\n",
    "\n",
    "   \n",
    "resultado_real = u.ordenar_palavras_frequencia(df_clean, 'label', 'Text', 1)\n",
    "# Converter o dicionário de palavras frequentes ordenadas em um DataFrame\n",
    "df_palavras_frequentes = pd.DataFrame(resultado_real, columns=['Word', 'Frequency'])\n",
    "# Salvar o DataFrame em um arquivo CSV\n",
    "# df_palavras_frequentes.to_csv('cleaned_data/real_palavras_frequentes.csv', index=False)\n"
   ]
  },
  {
   "cell_type": "markdown",
   "metadata": {},
   "source": [
    "Contagem de palavras por cada categoria (fake, real)"
   ]
  },
  {
   "cell_type": "code",
   "execution_count": 6,
   "metadata": {},
   "outputs": [
    {
     "name": "stdout",
     "output_type": "stream",
     "text": [
      "qtde palavras noticias fake:  1207771 \n",
      "qtde palavras noticias reais:  1162724\n"
     ]
    }
   ],
   "source": [
    "df_clean = pd.read_csv('cleaned_data/dados_limpos.csv')\n",
    "\n",
    "fake_news = df_clean[df_clean['label'] == 0]['Text']\n",
    "real_news = df_clean[df_clean['label'] == 1]['Text']\n",
    "\n",
    "count_fake = u.contagem_palavras(fake_news)\n",
    "count_real = u.contagem_palavras(real_news)\n",
    "\n",
    "print(\"qtde palavras noticias fake: \", count_fake, \"\\nqtde palavras noticias reais: \", count_real)\n"
   ]
  },
  {
   "cell_type": "markdown",
   "metadata": {},
   "source": [
    "Gráficos"
   ]
  },
  {
   "cell_type": "markdown",
   "metadata": {},
   "source": [
    "Histograma - Contagem de noticias por rlabel - real/fake"
   ]
  },
  {
   "cell_type": "code",
   "execution_count": 7,
   "metadata": {},
   "outputs": [
    {
     "data": {
      "image/png": "[encoded data removed]",
      "text/plain": [
       "<Figure size 1000x600 with 1 Axes>"
      ]
     },
     "metadata": {},
     "output_type": "display_data"
    }
   ],
   "source": [
    "plt.figure(figsize=(10, 6))\n",
    "sns.countplot(data=df_clean, x=\"label\", hue=\"label\")\n",
    "plt.title(\"Contagem de Noticias por label\")\n",
    "plt.xlabel(\"Real ou Fake?\")\n",
    "plt.ylabel(\"Contagem\")\n",
    "plt.legend(title=\"Veracidade da informação\")\n",
    "# plt.savefig('images/cont_noticias_label.png', dpi=300)\n",
    "plt.show()"
   ]
  },
  {
   "cell_type": "markdown",
   "metadata": {},
   "source": [
    "Gráfico de Barras - contagens da quantidade de palavras por cada categoria de noticia"
   ]
  },
  {
   "cell_type": "code",
   "execution_count": null,
   "metadata": {},
   "outputs": [],
   "source": [
    "contagens = [count_real, count_fake]\n",
    "plt.bar(['Noticias Reais', 'Noticias fake'], contagens, color=['green', 'purple'], align='edge', width=1.2)\n",
    "plt.title('Contagem de Palavras em Notícias Reais e Fakes')\n",
    "plt.xlabel('Tipo de Notícia')\n",
    "plt.ylabel('Contagem de Palavras')\n",
    "# plt.savefig('images/cont_palavras_label.png', dpi=300)\n",
    "plt.show()"
   ]
  },
  {
   "cell_type": "markdown",
   "metadata": {},
   "source": [
    "Wordcloud - Nuvem de palavras para noticias "
   ]
  },
  {
   "cell_type": "markdown",
   "metadata": {},
   "source": [
    "Wordcloud para noticias marcadas como 'real' ou '1'"
   ]
  },
  {
   "cell_type": "code",
   "execution_count": null,
   "metadata": {},
   "outputs": [],
   "source": [
    "real_news_copy = ' '.join(real_news)\n",
    "wordcloud_real = WordCloud(width=800, height=400, background_color ='white', max_words=2000).generate(real_news_copy)\n",
    "\n",
    "plt.figure(figsize=(10, 6))\n",
    "plt.imshow(wordcloud_real, interpolation='bilinear')\n",
    "plt.axis('off')\n",
    "plt.title(\"Nuvem de palavras das noticias marcadas como 'Real'/'1'\")\n",
    "# plt.savefig('images/wordcloud_real.png', dpi=300)\n",
    "plt.show()"
   ]
  },
  {
   "cell_type": "markdown",
   "metadata": {},
   "source": [
    "Wordcloud para noticias marcadas como 'fake' ou '0'"
   ]
  },
  {
   "cell_type": "code",
   "execution_count": null,
   "metadata": {},
   "outputs": [],
   "source": [
    "fake_news_copy = ' '.join(fake_news)\n",
    "wordcloud_fake = WordCloud(width=800, height=400, background_color ='white', max_words=2000).generate(fake_news_copy)\n",
    "\n",
    "plt.figure(figsize=(10, 6))\n",
    "plt.imshow(wordcloud_fake, interpolation='bilinear')\n",
    "plt.axis('off')\n",
    "plt.title(\"Nuvem de palavras das noticias marcadas como 'Fake'/'0'\")\n",
    "# plt.savefig('images/wordcloud_fake.png', dpi=300)\n",
    "plt.show()"
   ]
  },
  {
   "cell_type": "markdown",
   "metadata": {},
   "source": [
    "Histograma de comprimento de texto"
   ]
  },
  {
   "cell_type": "code",
   "execution_count": null,
   "metadata": {},
   "outputs": [],
   "source": [
    "df_clean.to_csv('cleaned_data/dados_limpos.csv', index=False)\n",
    "df_clean['Text_length'] = df_clean['Text'].apply(len)\n",
    "\n",
    "# Filtrando dados para notícias reais e falsas\n",
    "real_len = df_clean[df_clean['label'] == 1]['Text_length']\n",
    "fake_len = df_clean[df_clean['label'] == 0]['Text_length']\n",
    "\n",
    "# ignora valores maiores que 8000 \n",
    "real_len_limpo = real_len[real_len <= 8000]\n",
    "fake_len_limpo = fake_len[fake_len <= 8000]\n",
    "\n",
    "plt.figure(figsize=(12, 6))\n",
    "\n",
    "plt.subplot(1, 2, 1)  # Subplot para notícias reais\n",
    "plt.hist(real_len_limpo, bins=25, color='green', alpha=0.7, ec='black', density=True)\n",
    "plt.title('Distribuição do Comprimento das Notícias Reais')\n",
    "plt.xlabel('Comprimento do Texto')\n",
    "plt.ylabel('Frequência')\n",
    "\n",
    "plt.subplot(1, 2, 2)  # Subplot para notícias falsas\n",
    "plt.hist(fake_len_limpo, bins=25, color='purple', alpha=0.7, ec='black', density=True)\n",
    "plt.title('Distribuição do Comprimento das Notícias Falsas')\n",
    "plt.xlabel('Comprimento do Texto')\n",
    "plt.ylabel('Frequência')\n",
    "\n",
    "plt.tight_layout()  # Ajusta automaticamente os subplots para evitar sobreposição\n",
    "# plt.savefig('images/dist_comp_news.png', dpi=300)\n",
    "plt.show()"
   ]
  },
  {
   "cell_type": "markdown",
   "metadata": {},
   "source": [
    "Boxplot da distribuição do comprimento das noticias"
   ]
  },
  {
   "cell_type": "code",
   "execution_count": 21,
   "metadata": {},
   "outputs": [
    {
     "name": "stderr",
     "output_type": "stream",
     "text": [
      "C:\\Users\\lhsan\\AppData\\Local\\Temp\\ipykernel_2884\\1386986542.py:2: FutureWarning: \n",
      "\n",
      "Passing `palette` without assigning `hue` is deprecated and will be removed in v0.14.0. Assign the `x` variable to `hue` and set `legend=False` for the same effect.\n",
      "\n",
      "  sns.boxplot(x='label', y='Text_length', data=df_clean, palette={'1': 'green', '0': 'orange'}, showfliers=False) # comando para não exibir os outliers no bloxplot\n"
     ]
    },
    {
     "data": {
      "image/png": "[encoded data removed]",
      "text/plain": [
       "<Figure size 1000x600 with 1 Axes>"
      ]
     },
     "metadata": {},
     "output_type": "display_data"
    }
   ],
   "source": [
    "plt.figure(figsize=(10, 6))\n",
    "sns.boxplot(x='label', y='Text_length', data=df_clean, palette={'1': 'green', '0': 'orange'}, showfliers=False) # comando para não exibir os outliers no bloxplot\n",
    "plt.title('Distribuição do Comprimento das Notícias')\n",
    "plt.xlabel('Categoria \"Fake\" ou \"Real\"')\n",
    "plt.ylabel('Comprimento do Texto')\n",
    "# plt.savefig('images/boxplot_comp.png', dpi=300)\n",
    "plt.show()"
   ]
  },
  {
   "cell_type": "markdown",
   "metadata": {},
   "source": [
    "Contagem de palavras por cada categoria"
   ]
  },
  {
   "cell_type": "code",
   "execution_count": null,
   "metadata": {},
   "outputs": [],
   "source": [
    "df_clean = pd.read_csv('cleaned_data/dados_limpos.csv')\n",
    "\n",
    "fake_news = df_clean[df_clean['label'] == 0]['Text']\n",
    "real_news = df_clean[df_clean['label'] == 1]['Text']\n",
    "\n",
    "count_fake = u.contagem_palavras(fake_news)\n",
    "count_real = u.contagem_palavras(real_news)\n",
    "\n",
    "print(\"qtde palavras noticias fake: \", count_fake, \"\\nqtde palavras noticias reais: \", count_real)"
   ]
  },
  {
   "cell_type": "markdown",
   "metadata": {},
   "source": [
    "Cálculo de métricas básicas como média, desvio padrão, etc. "
   ]
  },
  {
   "cell_type": "code",
   "execution_count": null,
   "metadata": {},
   "outputs": [],
   "source": [
    "\n",
    "df_freq = pd.read_csv('cleaned_data/merged_freq.csv')\n",
    "\n",
    "real_len = df_clean[df_clean['label'] == 1]['Text_length']\n",
    "fake_len = df_clean[df_clean['label'] == 0]['Text_length']\n",
    "\n",
    "desc_stats_real = df_freq['Frequency_real'].describe()\n",
    "desc_stats_fake = df_freq['Frequency_fake'].describe()   \n",
    "\n",
    "total_size_real = df_freq['Frequency_real'].sum()\n",
    "total_size_fake = df_freq['Frequency_fake'].sum()\n",
    "\n",
    "desc_df = pd.DataFrame({\n",
    "    'Statistic': ['Size', 'Mean', 'Median', 'Std', 'Min', 'Max'],\n",
    "    'Real': [total_size_real, desc_stats_real['mean'], desc_stats_real['50%'], desc_stats_real['std'], desc_stats_real['min'], desc_stats_real['max']],\n",
    "    'Fake': [total_size_fake, desc_stats_fake['mean'], desc_stats_fake['50%'], desc_stats_fake['std'], desc_stats_fake['min'], desc_stats_fake['max']]\n",
    "})\n"
   ]
  },
  {
   "cell_type": "markdown",
   "metadata": {},
   "source": [
    "Análise de Sentimento"
   ]
  },
  {
   "cell_type": "code",
   "execution_count": 8,
   "metadata": {},
   "outputs": [
    {
     "name": "stdout",
     "output_type": "stream",
     "text": [
      "compound: -0.9315, neg: 0.119, neu: 0.817, pos: 0.064, "
     ]
    }
   ],
   "source": [
    "df_original = pd.read_csv('data/fake_and_real_news.csv')\n",
    "\n",
    "sid = SentimentIntensityAnalyzer()\n",
    "message_text = df_original['Text'][0]\n",
    "scores = sid.polarity_scores(message_text)\n",
    "\n",
    "for key in sorted(scores):\n",
    "    print('{0}: {1}, '.format(key, scores[key]), end='')\n"
   ]
  }
 ],
 "metadata": {
  "kernelspec": {
   "display_name": "Python 3",
   "language": "python",
   "name": "python3"
  },
  "language_info": {
   "codemirror_mode": {
    "name": "ipython",
    "version": 3
   },
   "file_extension": ".py",
   "mimetype": "text/x-python",
   "name": "python",
   "nbconvert_exporter": "python",
   "pygments_lexer": "ipython3",
   "version": "3.11.9"
  }
 },
 "nbformat": 4,
 "nbformat_minor": 2
}
